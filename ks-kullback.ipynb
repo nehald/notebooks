{
 "metadata": {
  "name": "ks-test2"
 }, 
 "nbformat": 2, 
 "worksheets": [
  {
   "cells": [
    {
     "cell_type": "code", 
     "collapsed": false, 
     "input": [
      "from scipy.stats import ks_2samp", 
      "from scipy.stats import poisson", 
      "from scipy.stats import entropy", 
      "", 
      "import matplotlib.pyplot as plt", 
      "import numpy as np", 
      "import sys", 
      "", 
      "## poisson distribution using both", 
      "## numpy (np)", 
      "def randp(lamb,num_samples):", 
      "    return np.random.poisson(lamb,num_samples)", 
      "", 
      "## and scipy ", 
      "## random number generators", 
      "def randp2(lamb,num_samples):", 
      "    return poisson.rvs(lamb,num_samples)", 
      "", 
      "def resample(signal,subsample_size):", 
      "    x = np.random.randint(len(signal),size=subsample_size)", 
      "    return signal[x]", 
      "", 
      "x=[]", 
      "y=[]", 
      "s = randp(2.,10000)", 
      "t = randp(2.5,10000)", 
      "for subsample in range(1000,3000,100):", 
      "    x=[]", 
      "    for i in range(0,400):", 
      "        s_sample=resample(s,subsample)", 
      "        t_sample = resample(t,subsample)", 
      "        temp1=np.histogram(s_sample)[0]+1", 
      "        temp1 = temp1*(1.0/sum(temp1))", 
      "        temp2=np.histogram(t_sample)[0]+1", 
      "        temp2 = temp2*(1.0/sum(temp2))", 
      "        x.append(entropy(temp1,temp2))", 
      "    print subsample,np.average(x)"
     ], 
     "language": "python", 
     "outputs": [
      {
       "output_type": "stream", 
       "stream": "stdout", 
       "text": [
        "1000 0.302492284206", 
        "1100"
       ]
      }, 
      {
       "output_type": "stream", 
       "stream": "stdout", 
       "text": [
        " 0.291281577551", 
        "1200"
       ]
      }, 
      {
       "output_type": "stream", 
       "stream": "stdout", 
       "text": [
        " 0.276033830834", 
        "1300"
       ]
      }, 
      {
       "output_type": "stream", 
       "stream": "stdout", 
       "text": [
        " 0.262872505313", 
        "1400"
       ]
      }, 
      {
       "output_type": "stream", 
       "stream": "stdout", 
       "text": [
        " 0.232749112874", 
        "1500"
       ]
      }, 
      {
       "output_type": "stream", 
       "stream": "stdout", 
       "text": [
        " 0.242624298803", 
        "1600"
       ]
      }, 
      {
       "output_type": "stream", 
       "stream": "stdout", 
       "text": [
        " 0.221577720742", 
        "1700"
       ]
      }, 
      {
       "output_type": "stream", 
       "stream": "stdout", 
       "text": [
        " 0.264051746155", 
        "1800"
       ]
      }, 
      {
       "output_type": "stream", 
       "stream": "stdout", 
       "text": [
        " 0.242419654494", 
        "1900"
       ]
      }, 
      {
       "output_type": "stream", 
       "stream": "stdout", 
       "text": [
        " 0.241135407918", 
        "2000"
       ]
      }, 
      {
       "output_type": "stream", 
       "stream": "stdout", 
       "text": [
        " 0.248171054883", 
        "2100"
       ]
      }, 
      {
       "output_type": "stream", 
       "stream": "stdout", 
       "text": [
        " 0.219517290504", 
        "2200"
       ]
      }, 
      {
       "output_type": "stream", 
       "stream": "stdout", 
       "text": [
        " 0.230729194072", 
        "2300"
       ]
      }, 
      {
       "output_type": "stream", 
       "stream": "stdout", 
       "text": [
        " 0.235402832211", 
        "2400"
       ]
      }, 
      {
       "output_type": "stream", 
       "stream": "stdout", 
       "text": [
        " 0.222110165425", 
        "2500"
       ]
      }, 
      {
       "output_type": "stream", 
       "stream": "stdout", 
       "text": [
        " 0.211760533264", 
        "2600"
       ]
      }, 
      {
       "output_type": "stream", 
       "stream": "stdout", 
       "text": [
        " 0.224150740343", 
        "2700"
       ]
      }, 
      {
       "output_type": "stream", 
       "stream": "stdout", 
       "text": [
        " 0.237156001171", 
        "2800"
       ]
      }, 
      {
       "output_type": "stream", 
       "stream": "stdout", 
       "text": [
        " 0.236237500248", 
        "2900"
       ]
      }, 
      {
       "output_type": "stream", 
       "stream": "stdout", 
       "text": [
        " 0.233566547764"
       ]
      }
     ], 
     "prompt_number": 68
    }, 
    {
     "cell_type": "code", 
     "collapsed": false, 
     "input": [
      "a = [1,1,1,2,3,4,1,2,2,4,4,]", 
      "n=np.histogram(a)[0]+1", 
      "v=n*(1.0/sum(n))", 
      "print sum(v)", 
      "", 
      ""
     ], 
     "language": "python", 
     "outputs": [
      {
       "output_type": "stream", 
       "stream": "stdout", 
       "text": [
        "1.0"
       ]
      }
     ], 
     "prompt_number": 37
    }, 
    {
     "cell_type": "code", 
     "collapsed": true, 
     "input": [], 
     "language": "python", 
     "outputs": []
    }
   ]
  }
 ]
}