{
 "metadata": {
  "name": "ks-test2"
 }, 
 "nbformat": 2, 
 "worksheets": [
  {
   "cells": [
    {
     "cell_type": "code", 
     "collapsed": false, 
     "input": [
      "from scipy.stats import ks_2samp", 
      "from scipy.stats import poisson", 
      "", 
      "import matplotlib.pyplot as plt", 
      "import numpy as np", 
      "import sys", 
      "", 
      "## poisson distribution using both", 
      "## numpy (np)", 
      "def randp(lamb,num_samples):", 
      "    return np.random.poisson(lamb,num_samples)", 
      "", 
      "## and scipy ", 
      "## random number generators", 
      "def randp2(lamb,num_samples):", 
      "    return poisson.rvs(lamb,num_samples)", 
      "", 
      "def resample(signal,subsample_size):", 
      "    x = np.random.randint(len(signal),size=subsample_size)", 
      "    return signal[x]", 
      "", 
      "x=[]", 
      "y=[]", 
      "s = randp(4,10000)", 
      "t = randp(4.2,10000)", 
      "for subsample in range(100,500,100):", 
      "    for i in range(1,1000):", 
      "        s_sample=resample(s,subsample)", 
      "        t_sample = resample(t,subsample)", 
      "        ks_stat,pvalue = ks_2samp(s_sample,t_sample)", 
      "        x.append(ks_stat)", 
      "        y.append(pvalue)", 
      "plt.plot(x,y,'*')", 
      "plt.show()"
     ], 
     "language": "python", 
     "outputs": [], 
     "prompt_number": 27
    }, 
    {
     "cell_type": "code", 
     "collapsed": false, 
     "input": [
      "x=np.random.randint(100,size=10)", 
      "print x"
     ], 
     "language": "python", 
     "outputs": [
      {
       "output_type": "stream", 
       "stream": "stdout", 
       "text": [
        "[ 0 33 75 33 51 63 88 34 30  5]"
       ]
      }
     ], 
     "prompt_number": 11
    }, 
    {
     "cell_type": "code", 
     "collapsed": false, 
     "input": [
      "for i in range(100,300,10):", 
      "    print i"
     ], 
     "language": "python", 
     "outputs": [
      {
       "output_type": "stream", 
       "stream": "stdout", 
       "text": [
        "100", 
        "110", 
        "120", 
        "130", 
        "140", 
        "150", 
        "160", 
        "170", 
        "180", 
        "190", 
        "200", 
        "210", 
        "220", 
        "230", 
        "240", 
        "250", 
        "260", 
        "270", 
        "280", 
        "290"
       ]
      }
     ], 
     "prompt_number": 22
    }, 
    {
     "cell_type": "code", 
     "collapsed": true, 
     "input": [], 
     "language": "python", 
     "outputs": []
    }
   ]
  }
 ]
}